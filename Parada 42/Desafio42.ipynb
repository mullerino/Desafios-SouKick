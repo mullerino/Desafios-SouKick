{
  "nbformat": 4,
  "nbformat_minor": 0,
  "metadata": {
    "colab": {
      "provenance": []
    },
    "kernelspec": {
      "name": "python3",
      "display_name": "Python 3"
    },
    "language_info": {
      "name": "python"
    }
  },
  "cells": [
    {
      "cell_type": "code",
      "execution_count": null,
      "metadata": {
        "colab": {
          "base_uri": "https://localhost:8080/"
        },
        "id": "8o7nCK_pLq6u",
        "outputId": "686ebad1-89f4-4d5f-de43-cf5bc12a5434"
      },
      "outputs": [
        {
          "output_type": "stream",
          "name": "stdout",
          "text": [
            "Digite o primeiro valor:5\n",
            "Digite o segundo valor:5\n",
            "O resultado: 10.0\n"
          ]
        }
      ],
      "source": [
        "v1 = float(input('Digite o primeiro valor:'))\n",
        "v2 = float(input('Digite o segundo valor:'))\n",
        "\n",
        "soma = v1+v2\n",
        "\n",
        "print('O resultado:', soma)"
      ]
    },
    {
      "cell_type": "code",
      "source": [
        "nome = input('Digite seu nome:')\n",
        "idade = int(input('Digite sua idade:'))\n",
        "telefone = input('Digite seu número de telefone: ')\n",
        "email= input('Digite seu email:')\n",
        "\n",
        "print('Nome:',nome)\n",
        "print('Idade:',idade)\n",
        "print('Telefone:',telefone)\n",
        "print('Email:',email)"
      ],
      "metadata": {
        "colab": {
          "base_uri": "https://localhost:8080/"
        },
        "id": "COSAb_4TcZnN",
        "outputId": "519270b8-1db1-4f64-e20d-9d8f8f6ccb6e"
      },
      "execution_count": null,
      "outputs": [
        {
          "output_type": "stream",
          "name": "stdout",
          "text": [
            "Digite seu nome:leandro\n",
            "Digite sua idade:21\n",
            "Digite seu número de telefone: 86309161\n",
            "Digite seu email:leandromllr9@gmail.com\n",
            "leandro\n",
            "21\n",
            "86309161\n",
            "leandromllr9@gmail.com\n"
          ]
        }
      ]
    },
    {
      "cell_type": "code",
      "source": [
        "code = input('Digite o código do produto:')\n",
        "nome = input('Digite o nome do produto:')\n",
        "qtd = int(input('Digite a quantidade:'))\n",
        "valor = float(input('Digite o valor do produto:'))\n",
        "\n",
        "print('Código do produto:',code)\n",
        "print('Nome do produto:',nome)\n",
        "print('Quantidade:',qtd)\n",
        "print('Valor da compra:',valor*qtd)"
      ],
      "metadata": {
        "colab": {
          "base_uri": "https://localhost:8080/"
        },
        "id": "JyoD_bVRdAU0",
        "outputId": "843083d0-72ce-47f7-f6f2-f9033eed7a45"
      },
      "execution_count": null,
      "outputs": [
        {
          "output_type": "stream",
          "name": "stdout",
          "text": [
            "Digite o código do produto:001\n",
            "Digite o nome do produto:Mouse\n",
            "Digite a quantidade:3\n",
            "Digite o valor do produto:10\n",
            "Código do produto: 001\n",
            "Nome do produto: Mouse\n",
            "Quantidade: 3\n",
            "Valor da compra: 30.0\n"
          ]
        }
      ]
    },
    {
      "cell_type": "code",
      "source": [
        "valorCM = float(input('Digite o valor em cm:'))\n",
        "valorM = valorCM / 100\n",
        "\n",
        "print('Valor convertido para metro:',valorM,'m')"
      ],
      "metadata": {
        "colab": {
          "base_uri": "https://localhost:8080/"
        },
        "id": "3x5dpPpUd6mS",
        "outputId": "43e89be2-8b64-4f32-be2a-906ada0a7964"
      },
      "execution_count": null,
      "outputs": [
        {
          "output_type": "stream",
          "name": "stdout",
          "text": [
            "Digite o valor em cm:100\n",
            "Valor convertido para m: 1.0 m\n"
          ]
        }
      ]
    },
    {
      "cell_type": "code",
      "source": [
        "base = float(input('Digite o valor da base em m:'))\n",
        "alt = float(input('Digite o valor da altura em m:'))\n",
        "\n",
        "area = base * alt\n",
        "\n",
        "if(base == alt):\n",
        "  print('É um quadrado')\n",
        "else:\n",
        "  print('É um retângulo')\n",
        "\n",
        "print('A área da figura vale:', area,'m²')"
      ],
      "metadata": {
        "colab": {
          "base_uri": "https://localhost:8080/"
        },
        "id": "7XefbXj7ehQX",
        "outputId": "75a6e4d3-473a-44e9-a94f-fe23f6d54c6b"
      },
      "execution_count": null,
      "outputs": [
        {
          "output_type": "stream",
          "name": "stdout",
          "text": [
            "Digite o valor da base em m:3\n",
            "Digite o valor da altura em m:3\n",
            "É um quadrado\n",
            "A área da base vale: 9.0 m²\n"
          ]
        }
      ]
    }
  ]
}