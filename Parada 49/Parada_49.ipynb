{
  "nbformat": 4,
  "nbformat_minor": 0,
  "metadata": {
    "colab": {
      "provenance": [],
      "collapsed_sections": []
    },
    "kernelspec": {
      "name": "python3",
      "display_name": "Python 3"
    },
    "language_info": {
      "name": "python"
    }
  },
  "cells": [
    {
      "cell_type": "markdown",
      "source": [
        "### Realizando a requisição para capturar dados"
      ],
      "metadata": {
        "id": "qd6VWMDBCR7v"
      }
    },
    {
      "cell_type": "code",
      "execution_count": 1,
      "metadata": {
        "id": "gJqnDrnMnlIO"
      },
      "outputs": [],
      "source": [
        "import openpyxl\n",
        "from bs4 import BeautifulSoup #responsável por minerar os sites\n",
        "import requests #biblioteca para fazer requisições aos sites"
      ]
    },
    {
      "cell_type": "code",
      "source": [
        "HEADERS = {\n",
        "'User-Agent': 'Mozilla/5.0 (Windows NT 6.3; WOW64; Trident/7.0; Touch; MAARJS; rv:11.0) like Gecko',\n",
        "'Accept':'text/html,application/xhtml+xml,application/xml;q=0.9,image/webp,*/*;q=0.8',\n",
        "'Accept-Encoding':'gzip,deflate,sdch',\n",
        "'Accept-Language':'pt-BR; q=0.9;en-US,en;q=0.8',\n",
        "'Connection':'Keep-alive',\n",
        "'Referer':'https://www.google.com.br',\n",
        "}"
      ],
      "metadata": {
        "id": "SEz2LAbOoifi"
      },
      "execution_count": 2,
      "outputs": []
    },
    {
      "cell_type": "code",
      "source": [
        "resposta = requests.get(\"https://www.zoom.com.br/notebook?og=18000&og=18000&gclid=Cj0KCQjw--2aBhD5ARIsALiRlwAcWHiZQ54irYnARmSJUsa80Q2-kAQuBoJzOdGxYxpoYs--GOD0FmsaApAmEALw_wcB\", headers = HEADERS) #se retornar 200 a requisição foi bem sucecida\n",
        "resposta.text #retorna o html\n",
        "\n",
        "soup = BeautifulSoup(resposta.text, 'html.parser')\n",
        "soup"
      ],
      "metadata": {
        "id": "bk178p1JomNF"
      },
      "execution_count": null,
      "outputs": []
    },
    {
      "cell_type": "code",
      "source": [
        "prod_ofertas = soup.find_all(class_=\"Text_Text__bOTfK Text_MobileLabelXs__rr7ZF Text_DesktopLabelSAtLarge__xHZpN SearchCard_ProductCard_Name__ZaO5o\") #guarda todos as tags que possui a classe passada no parametro do método\n",
        "prod_ofertas_value = soup.find_all(class_= \"Text_Text__bOTfK Text_MobileHeadingS__XS_Au\")\n",
        "\n",
        "produtos = []\n",
        "prod_prices = []\n",
        "\n",
        "for i in prod_ofertas:\n",
        "  produtos.append(i.text)\n",
        "\n",
        "for j in prod_ofertas_value:\n",
        "  prod_prices.append(j.text)\n",
        "  \n",
        "produtos\n",
        "prod_prices"
      ],
      "metadata": {
        "id": "pJBjJiBhpQAv"
      },
      "execution_count": null,
      "outputs": []
    },
    {
      "cell_type": "markdown",
      "source": [
        "### Passando as informações coletadas para uma planilha"
      ],
      "metadata": {
        "id": "5Sv95Oh2Caxp"
      }
    },
    {
      "cell_type": "code",
      "source": [
        "planilha = openpyxl.Workbook()\n",
        "\n",
        "planilha.create_sheet('Mercado Livre') #cria aba \n",
        "\n",
        "aba_produtos = planilha['Mercado Livre']\n",
        "aba_produtos.append(['Produto', 'Preço'])\n",
        "\n",
        "for i in range(0,len(produtos)):\n",
        "  aba_produtos.append([produtos[i],prod_prices[i]])\n",
        "\n",
        "planilha.save('produtos_ML.xlsx')"
      ],
      "metadata": {
        "id": "04KJ6gUGrAI2"
      },
      "execution_count": 5,
      "outputs": []
    },
    {
      "cell_type": "markdown",
      "source": [
        "# Tratando os dados para construir um gráfico"
      ],
      "metadata": {
        "id": "TCPNpMcMs0-e"
      }
    },
    {
      "cell_type": "code",
      "source": [
        "import matplotlib.pyplot as plt\n",
        "import numpy as np\n",
        "import pandas as pd"
      ],
      "metadata": {
        "id": "GTzxP3Tos9uS"
      },
      "execution_count": 10,
      "outputs": []
    },
    {
      "cell_type": "code",
      "source": [
        "produtos = np.array(produtos)\n",
        "prod_prices = np.array(prod_prices)"
      ],
      "metadata": {
        "id": "p8TyGb96tDWw"
      },
      "execution_count": 7,
      "outputs": []
    },
    {
      "cell_type": "code",
      "source": [
        "prod_valors = np.stack((produtos, prod_prices), axis = 1)\n",
        "prod_valors"
      ],
      "metadata": {
        "id": "4i-JAz70vu4_"
      },
      "execution_count": null,
      "outputs": []
    },
    {
      "cell_type": "code",
      "source": [
        "data_df = pd.DataFrame(prod_valors, columns=['Produto', 'Preço'])\n",
        "data_df"
      ],
      "metadata": {
        "id": "NtbApD2AwkM9"
      },
      "execution_count": null,
      "outputs": []
    },
    {
      "cell_type": "code",
      "source": [
        "data_df.info()"
      ],
      "metadata": {
        "id": "m3pS-UHW8Gs3"
      },
      "execution_count": null,
      "outputs": []
    },
    {
      "cell_type": "code",
      "source": [
        "def corrigir_valores(valor):\n",
        "    valor = valor.replace('.', '').replace('R$', '').replace(',','')\n",
        "    return valor\n",
        "\n",
        "data_df['Preço'] = data_df['Preço'].apply(corrigir_valores) #aplica na coluna 'Preço' sem os valores sem o . e R$"
      ],
      "metadata": {
        "id": "u3OImaSi9EiQ"
      },
      "execution_count": 30,
      "outputs": []
    },
    {
      "cell_type": "code",
      "source": [
        "data_df['Preço'] = data_df['Preço'].astype('int64') #converter objeto para int64"
      ],
      "metadata": {
        "id": "mrTOQooH7RDW"
      },
      "execution_count": 31,
      "outputs": []
    },
    {
      "cell_type": "code",
      "source": [
        "data_df['Preço']"
      ],
      "metadata": {
        "id": "esEi2uAV72H2"
      },
      "execution_count": null,
      "outputs": []
    },
    {
      "cell_type": "code",
      "source": [
        "menor3 = 0\n",
        "maior3 = 0\n",
        "maior6 = 0\n",
        "texts = ['Menor do que R$ 3.000,00', 'Menor do que R$ 6.000,00', 'Maior do que R$ 6.000,00']\n",
        "\n",
        "for i in range(0,len(data_df['Preço'])):\n",
        "  if data_df['Preço'][i]<300000:\n",
        "    menor3 = menor3 + 1\n",
        "  elif data_df['Preço'][i]<600000:\n",
        "    maior3 = maior3 + 1\n",
        "  else :\n",
        "    maior6 = maior6 + 1\n",
        "\n",
        "quantPr = [menor3,maior3,maior6]"
      ],
      "metadata": {
        "id": "o6Xq4htl8RZN"
      },
      "execution_count": null,
      "outputs": []
    },
    {
      "cell_type": "markdown",
      "source": [
        "### Criando gráfico"
      ],
      "metadata": {
        "id": "KQj7_ZkKB4u6"
      }
    },
    {
      "cell_type": "code",
      "source": [
        "plt.barh(texts, quantPr, facecolor = 'blue')\n",
        "plt.title('Preço X Quantidade de produtos')\n",
        "plt.xlabel('Quantidade')\n",
        "plt.ylabel('Preço')\n",
        "plt.show()\n",
        "#plt.savefig('grafico.png', dpi=200)"
      ],
      "metadata": {
        "colab": {
          "base_uri": "https://localhost:8080/",
          "height": 295
        },
        "id": "LfEPS_n5AqYn",
        "outputId": "d5308ae7-616e-4b37-df65-f759c7120b65"
      },
      "execution_count": 54,
      "outputs": [
        {
          "output_type": "display_data",
          "data": {
            "text/plain": [
              "<Figure size 432x288 with 1 Axes>"
            ],
            "image/png": "[encoded data removed]"
          },
          "metadata": {
            "needs_background": "light"
          }
        }
      ]
    }
  ]
}